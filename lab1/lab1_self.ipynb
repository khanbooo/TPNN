{
 "cells": [
  {
   "cell_type": "code",
   "execution_count": 2,
   "metadata": {},
   "outputs": [],
   "source": [
    "import math\n",
    "import numpy as np\n",
    "import pandas as pd\n",
    "import matplotlib.pyplot as plt\n",
    "from collections import Counter\n",
    "from sklearn.preprocessing import LabelEncoder, StandardScaler\n",
    "from sklearn.tree import DecisionTreeClassifier"
   ]
  },
  {
   "cell_type": "code",
   "execution_count": 3,
   "metadata": {},
   "outputs": [],
   "source": [
    "label_encoders = {}\n",
    "scaler_params = {}\n",
    "selected_features = []"
   ]
  },
  {
   "cell_type": "code",
   "execution_count": 4,
   "metadata": {},
   "outputs": [],
   "source": [
    "def calculate_entropy(y):\n",
    "        counts = Counter(y)\n",
    "        probabilities = [count / len(y) for count in counts.values()]\n",
    "        return -sum(p * math.log2(p) for p in probabilities if p > 0)"
   ]
  },
  {
   "cell_type": "code",
   "execution_count": 5,
   "metadata": {},
   "outputs": [],
   "source": [
    "def calculate_information_gain(X, y, feature):\n",
    "        total_entropy = calculate_entropy(y)\n",
    "        values, counts = np.unique(X[feature], return_counts=True)\n",
    "        weighted_entropy = 0\n",
    "        for v, c in zip(values, counts):\n",
    "            subset_y = y[X[feature] == v]\n",
    "            weighted_entropy += (c / len(y)) * calculate_entropy(subset_y)\n",
    "        \n",
    "        return total_entropy - weighted_entropy"
   ]
  },
  {
   "cell_type": "code",
   "execution_count": 6,
   "metadata": {},
   "outputs": [],
   "source": [
    "def calculate_split_info(X, feature):\n",
    "        values, counts = np.unique(X[feature], return_counts=True)\n",
    "        probabilities = counts / len(X)\n",
    "        return -sum(p * math.log2(p) for p in probabilities if p > 0)"
   ]
  },
  {
   "cell_type": "code",
   "execution_count": 7,
   "metadata": {},
   "outputs": [],
   "source": [
    "def calculate_gain_ratio(X, y, feature):\n",
    "        ig = calculate_information_gain(X, y, feature)\n",
    "        si = calculate_split_info(X, feature)\n",
    "        return ig / si if si != 0 else 0"
   ]
  },
  {
   "cell_type": "code",
   "execution_count": 8,
   "metadata": {},
   "outputs": [],
   "source": [
    "def select_features(X, y, k=10):\n",
    "        gain_ratios = {}\n",
    "        for feature in X.columns:\n",
    "            gain_ratios[feature] = calculate_gain_ratio(X, y, feature)\n",
    "        \n",
    "        sorted_features = sorted(gain_ratios.items(), key=lambda x: x[1], reverse=True)\n",
    "        for importance in sorted_features:\n",
    "            print(f\"Feature: {importance[0]}, Gain Ratio: {importance[1]}\")\n",
    "        selected_features = [f[0] for f in sorted_features[:k]]\n",
    "        return selected_features"
   ]
  },
  {
   "cell_type": "code",
   "execution_count": 9,
   "metadata": {},
   "outputs": [],
   "source": [
    "def encode_categorical(df, categorical_cols):\n",
    "        for col in categorical_cols:\n",
    "            le = LabelEncoder()\n",
    "            df[col] = le.fit_transform(df[col])\n",
    "            label_encoders[col] = le\n",
    "        return df"
   ]
  },
  {
   "cell_type": "code",
   "execution_count": 10,
   "metadata": {},
   "outputs": [],
   "source": [
    "def normalize_numerical(df, numerical_cols):\n",
    "        for col in numerical_cols:\n",
    "            mean = df[col].mean()\n",
    "            std = df[col].std()\n",
    "            df[col] = (df[col] - mean) / std\n",
    "            scaler_params[col] = {'mean': mean, 'std': std}\n",
    "        return df"
   ]
  },
  {
   "cell_type": "code",
   "execution_count": 11,
   "metadata": {},
   "outputs": [],
   "source": [
    "def preprocess(df, categorical_cols, numerical_cols, target_col):\n",
    "        df = encode_categorical(df, categorical_cols)\n",
    "        \n",
    "        df = normalize_numerical(df, numerical_cols)\n",
    "\n",
    "        X = df.drop(target_col, axis=1)\n",
    "        y = df[target_col]\n",
    "        selected_features = select_features(X, y)\n",
    "        \n",
    "        return X[selected_features], y"
   ]
  },
  {
   "cell_type": "code",
   "execution_count": 12,
   "metadata": {},
   "outputs": [],
   "source": [
    "columns = [\n",
    "    'checking_account', 'duration', 'credit_history', 'purpose', 'credit_amount',\n",
    "    'savings_account', 'employment', 'installment_rate', 'personal_status_sex',\n",
    "    'other_debtors', 'residence_since', 'property', 'age', 'other_installment_plans',\n",
    "    'housing', 'existing_credits', 'job', 'dependents', 'telephone', 'foreign_worker', 'class'\n",
    "]\n",
    "\n",
    "df = pd.read_csv('../dataset/german.txt', sep=' ', header=None, names=columns)\n",
    "\n",
    "categorical_columns = [\n",
    "    'checking_account', 'credit_history', 'purpose', 'savings_account',\n",
    "    'employment', 'personal_status_sex', 'other_debtors', 'property',\n",
    "    'other_installment_plans', 'housing', 'job', 'telephone', 'foreign_worker'\n",
    "]\n",
    "\n",
    "numerical_columns = [\n",
    "    'duration', 'credit_amount', 'installment_rate', 'residence_since',\n",
    "    'age', 'existing_credits', 'dependents'\n",
    "]"
   ]
  },
  {
   "cell_type": "code",
   "execution_count": 13,
   "metadata": {},
   "outputs": [
    {
     "name": "stdout",
     "output_type": "stream",
     "text": [
      "Feature: credit_amount, Gain Ratio: 0.0840249180763252\n",
      "Feature: checking_account, Gain Ratio: 0.05257301743857327\n",
      "Feature: foreign_worker, Gain Ratio: 0.025498722895838353\n",
      "Feature: credit_history, Gain Ratio: 0.025479578036756906\n",
      "Feature: duration, Gain Ratio: 0.01682862262191917\n",
      "Feature: savings_account, Gain Ratio: 0.016658196141477045\n",
      "Feature: housing, Gain Ratio: 0.011196711794459116\n",
      "Feature: other_installment_plans, Gain Ratio: 0.010506605048488504\n",
      "Feature: purpose, Gain Ratio: 0.009335038667521351\n",
      "Feature: other_debtors, Gain Ratio: 0.008908708970858076\n",
      "Feature: property, Gain Ratio: 0.008720275014799172\n",
      "Feature: age, Gain Ratio: 0.008650556005611994\n",
      "Feature: employment, Gain Ratio: 0.006079416548390452\n",
      "Feature: personal_status_sex, Gain Ratio: 0.004445227862814241\n",
      "Feature: installment_rate, Gain Ratio: 0.002195825934842193\n",
      "Feature: existing_credits, Gain Ratio: 0.0017436399350379077\n",
      "Feature: telephone, Gain Ratio: 0.0009901541564031008\n",
      "Feature: job, Gain Ratio: 0.0009461948122036535\n",
      "Feature: residence_since, Gain Ratio: 0.0002945045632064911\n",
      "Feature: dependents, Gain Ratio: 1.0555264996646632e-05\n"
     ]
    }
   ],
   "source": [
    "X_processed, y_processed = preprocess(\n",
    "    df, categorical_columns, numerical_columns, 'class')"
   ]
  }
 ],
 "metadata": {
  "kernelspec": {
   "display_name": "base",
   "language": "python",
   "name": "python3"
  },
  "language_info": {
   "codemirror_mode": {
    "name": "ipython",
    "version": 3
   },
   "file_extension": ".py",
   "mimetype": "text/x-python",
   "name": "python",
   "nbconvert_exporter": "python",
   "pygments_lexer": "ipython3",
   "version": "3.12.5"
  }
 },
 "nbformat": 4,
 "nbformat_minor": 2
}
